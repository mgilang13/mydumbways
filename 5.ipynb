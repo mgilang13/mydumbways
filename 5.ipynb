{
 "cells": [
  {
   "cell_type": "code",
   "execution_count": 28,
   "metadata": {},
   "outputs": [
    {
     "name": "stdout",
     "output_type": "stream",
     "text": [
      "Masukkan jumlah serial number: 10\n",
      "debo-e7tp-nmxv-iqh8\n",
      "0ewj-huc7-z09b-1z4k\n",
      "44zz-zjc5-0dgy-f2og\n",
      "msfv-tacu-5110-csln\n",
      "a37j-9cu8-937r-e9xg\n",
      "c3ew-7h1x-t2h6-b7jh\n",
      "i1ki-nt0j-h24f-3sef\n",
      "m7md-ot3q-oro4-y5bm\n",
      "6qam-zdgp-dwe6-xevf\n",
      "vb4g-wgnt-34nm-0ciq\n"
     ]
    }
   ],
   "source": [
    "import random, string\n",
    "\n",
    "def generate(val):\n",
    "    for i in range(val):\n",
    "        serialNumberList = list()\n",
    "\n",
    "        for j in range(4):\n",
    "            serialNumber = ''.join(random.choice(string.ascii_lowercase + string.digits) for _ in range(4))\n",
    "            serialNumberList.append(serialNumber)\n",
    "\n",
    "        serialNumberFix = '-'.join(serialNumberList)\n",
    "        print(serialNumberFix)\n",
    "    \n",
    "val = int(input('Masukkan jumlah serial number: '))\n",
    "generate(val)\n"
   ]
  },
  {
   "cell_type": "code",
   "execution_count": null,
   "metadata": {},
   "outputs": [],
   "source": []
  },
  {
   "cell_type": "code",
   "execution_count": null,
   "metadata": {},
   "outputs": [],
   "source": []
  }
 ],
 "metadata": {
  "kernelspec": {
   "display_name": "Python 3",
   "language": "python",
   "name": "python3"
  },
  "language_info": {
   "codemirror_mode": {
    "name": "ipython",
    "version": 3
   },
   "file_extension": ".py",
   "mimetype": "text/x-python",
   "name": "python",
   "nbconvert_exporter": "python",
   "pygments_lexer": "ipython3",
   "version": "3.7.4"
  }
 },
 "nbformat": 4,
 "nbformat_minor": 2
}
