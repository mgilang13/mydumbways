{
 "cells": [
  {
   "cell_type": "code",
   "execution_count": 29,
   "metadata": {},
   "outputs": [
    {
     "name": "stdout",
     "output_type": "stream",
     "text": [
      "Masukkan total pembelian: 20000\n",
      "Masukkan uang anda: 30000\n",
      "50000 berjumlah 0\n",
      "20000 berjumlah 0\n",
      "10000 berjumlah 1\n",
      "5000 berjumlah 0\n",
      "2000 berjumlah 0\n",
      "500 berjumlah 0\n"
     ]
    }
   ],
   "source": [
    "def hitungKembalian(totalPembelian, uangMasuk):\n",
    "    \n",
    "    uangPecahan = [50000, 20000, 10000, 5000, 2000, 500]\n",
    "    uangSisa = uangMasuk-totalPembelian\n",
    "\n",
    "    for i in range(len(uangPecahan)):\n",
    "        uangSisa2 = uangSisa%uangPecahan[i]\n",
    "        uangNyata = uangSisa-uangSisa2\n",
    "        jumlahUangNyata = int(uangNyata/uangPecahan[i])\n",
    "        print(str(uangPecahan[i])+' berjumlah '+str(jumlahUangNyata))\n",
    "        uangSisa = uangSisa2\n",
    "\n",
    "totalPembelian = int(input(\"Masukkan total pembelian: \"))\n",
    "uangMasuk = int(input(\"Masukkan uang anda: \"))\n",
    "\n",
    "hitungKembalian(totalPembelian, uangMasuk)"
   ]
  },
  {
   "cell_type": "code",
   "execution_count": 14,
   "metadata": {},
   "outputs": [
    {
     "data": {
      "text/plain": [
       "39500"
      ]
     },
     "execution_count": 14,
     "metadata": {},
     "output_type": "execute_result"
    }
   ],
   "source": [
    "89500%50000"
   ]
  },
  {
   "cell_type": "code",
   "execution_count": null,
   "metadata": {},
   "outputs": [],
   "source": []
  }
 ],
 "metadata": {
  "kernelspec": {
   "display_name": "Python 3",
   "language": "python",
   "name": "python3"
  },
  "language_info": {
   "codemirror_mode": {
    "name": "ipython",
    "version": 3
   },
   "file_extension": ".py",
   "mimetype": "text/x-python",
   "name": "python",
   "nbconvert_exporter": "python",
   "pygments_lexer": "ipython3",
   "version": "3.7.4"
  }
 },
 "nbformat": 4,
 "nbformat_minor": 2
}
