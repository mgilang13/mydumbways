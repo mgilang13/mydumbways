{
 "cells": [
  {
   "cell_type": "code",
   "execution_count": 11,
   "metadata": {},
   "outputs": [
    {
     "name": "stdout",
     "output_type": "stream",
     "text": [
      "Masukkan Jumlah Uang: 50000\n",
      "Uang yang harus dibayar: 35000.0\n",
      "Diskon: 15000.0\n",
      "Kembalian: 15000.0\n"
     ]
    }
   ],
   "source": [
    "def hitungVoucher(jenisVoucher, jumlahUang):\n",
    "    if jenisVoucher == \"DumbWaysAsik\":\n",
    "        potongan = 0.5*jumlahUang\n",
    "        if(potongan <=20000):\n",
    "            uangBayar = jumlahUang-potongan\n",
    "        else:\n",
    "            uangBayar = jumlahUang-20000\n",
    "        kembalian = jumlahUang-uangBayar\n",
    "        \n",
    "    elif jenisVoucher == \"DumbWaysMantap\":\n",
    "        potongan = 0.3*jumlahUang\n",
    "        if(potongan <= 40000):\n",
    "            uangBayar = jumlahUang-potongan\n",
    "        else:\n",
    "            uangBayar = jumlahUang-40000\n",
    "        kembalian = jumlahUang-uangBayar\n",
    "    \n",
    "    print(\"Uang yang harus dibayar: \"+str(uangBayar))\n",
    "    print(\"Diskon: \"+str(potongan))\n",
    "    print(\"Kembalian: \"+str(kembalian))\n",
    "        \n",
    "        \n",
    "\n",
    "        \n",
    "jenisVoucher = [\"DumbWaysAsik\", \"DumbWaysMantap\"]\n",
    "\n",
    "uang = int(input(\"Masukkan Jumlah Uang: \"))\n",
    "\n",
    "if uang >= 20000 and uang < 50000:\n",
    "    hitungVoucher(jenisVoucher[0], uang)\n",
    "elif uang >= 50000:\n",
    "    hitungVoucher(jenisVoucher[1], uang)"
   ]
  },
  {
   "cell_type": "code",
   "execution_count": null,
   "metadata": {},
   "outputs": [],
   "source": []
  },
  {
   "cell_type": "code",
   "execution_count": null,
   "metadata": {},
   "outputs": [],
   "source": []
  }
 ],
 "metadata": {
  "kernelspec": {
   "display_name": "Python 3",
   "language": "python",
   "name": "python3"
  },
  "language_info": {
   "codemirror_mode": {
    "name": "ipython",
    "version": 3
   },
   "file_extension": ".py",
   "mimetype": "text/x-python",
   "name": "python",
   "nbconvert_exporter": "python",
   "pygments_lexer": "ipython3",
   "version": "3.7.4"
  }
 },
 "nbformat": 4,
 "nbformat_minor": 2
}
