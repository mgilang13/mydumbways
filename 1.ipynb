{
 "cells": [
  {
   "cell_type": "code",
   "execution_count": 37,
   "metadata": {},
   "outputs": [
    {
     "name": "stdout",
     "output_type": "stream",
     "text": [
      "Masukkan Angka Ke-0 :7\n",
      "Masukkan Angka Ke-1 :3\n",
      "Masukkan Angka Ke-2 :5\n",
      "Masukkan Angka Ke-3 :2\n",
      "Masukkan Angka Ke-4 :1\n",
      "Jumlah Terbesar adalah: 17\n",
      "Jumlah Terkecil adalah: 11\n"
     ]
    }
   ],
   "source": [
    "def myfunction(angka):\n",
    "    angka2 = []\n",
    "    for index, value in enumerate(angka):\n",
    "        angka2.append(sum(angka)-value)\n",
    "    print(\"Jumlah Terbesar adalah: \"+str(max(angka2)))\n",
    "    print(\"Jumlah Terkecil adalah: \"+str(min(angka2)))\n",
    "\n",
    "angka = []\n",
    "for i in range(5):\n",
    "    n = input(\"Masukkan Angka Ke-\"+str(i)+\" :\")\n",
    "    angka.append(int(n))\n",
    "\n",
    "myfunction(angka)"
   ]
  },
  {
   "cell_type": "code",
   "execution_count": null,
   "metadata": {},
   "outputs": [],
   "source": []
  }
 ],
 "metadata": {
  "kernelspec": {
   "display_name": "Python 3",
   "language": "python",
   "name": "python3"
  },
  "language_info": {
   "codemirror_mode": {
    "name": "ipython",
    "version": 3
   },
   "file_extension": ".py",
   "mimetype": "text/x-python",
   "name": "python",
   "nbconvert_exporter": "python",
   "pygments_lexer": "ipython3",
   "version": "3.7.4"
  }
 },
 "nbformat": 4,
 "nbformat_minor": 2
}
