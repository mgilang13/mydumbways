{
 "cells": [
  {
   "cell_type": "code",
   "execution_count": 116,
   "metadata": {},
   "outputs": [
    {
     "name": "stdout",
     "output_type": "stream",
     "text": [
      "Masukkan jumlah sisi ganjil: 5\n",
      " * = * = *\n",
      " = * = * =\n",
      " * = * = *\n",
      " = * = * =\n",
      " * = * = *\n"
     ]
    }
   ],
   "source": [
    "def cetak_gambar(val):\n",
    "    for i in range(val):\n",
    "        if i%2==0:\n",
    "            print((val-3)*' * ='+' *')\n",
    "        else:\n",
    "            print((val-3)*' = *'+' =')\n",
    "\n",
    "\n",
    "val = int(input(\"Masukkan jumlah sisi ganjil: \"))\n",
    "cetak_gambar(val)\n",
    "    "
   ]
  }
 ],
 "metadata": {
  "kernelspec": {
   "display_name": "Python 3",
   "language": "python",
   "name": "python3"
  },
  "language_info": {
   "codemirror_mode": {
    "name": "ipython",
    "version": 3
   },
   "file_extension": ".py",
   "mimetype": "text/x-python",
   "name": "python",
   "nbconvert_exporter": "python",
   "pygments_lexer": "ipython3",
   "version": "3.7.4"
  }
 },
 "nbformat": 4,
 "nbformat_minor": 2
}
