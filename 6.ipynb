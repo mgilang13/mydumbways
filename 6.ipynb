{
 "cells": [
  {
   "cell_type": "code",
   "execution_count": 27,
   "metadata": {},
   "outputs": [
    {
     "name": "stdout",
     "output_type": "stream",
     "text": [
      "[['a', 'b', 'c', 'd', 'e'], ['e', 'f', 'g']]\n"
     ]
    }
   ],
   "source": [
    "def shellSort(arr):\n",
    "    n = len(arr)\n",
    "    gap = n//2\n",
    "   \n",
    "    while gap > 0:\n",
    "        for i in range(int(gap), n):\n",
    "            temp = arr[i]\n",
    "            \n",
    "            j=i\n",
    "            \n",
    "            while j >= int(gap) and arr[j-int(gap)]>temp:\n",
    "                arr[j] = arr[j-int(gap)]\n",
    "                j-=int(gap)\n",
    "            arr[j] = temp\n",
    "        gap/=2\n",
    "\n",
    "arr = [['a', 'c', 'b', 'e', 'd'], ['g', 'e', 'f']]\n",
    "arrSort1 = []\n",
    "arrSort2 = []\n",
    "arrSortFull = []\n",
    "\n",
    "n1= len(arr[0])\n",
    "shellSort(arr[0])\n",
    "\n",
    "n2 = len(arr[1])\n",
    "shellSort(arr[1])\n",
    "\n",
    "for i in range(n1): \n",
    "    arrSort1.append(arr[0][i])\n",
    "\n",
    "for i in range(n2):\n",
    "    arrSort2.append(arr[1][i])\n",
    "\n",
    "arrSortFull.append(arrSort1)\n",
    "arrSortFull.append(arrSort2)\n",
    "\n",
    "print(arrSortFull)"
   ]
  }
 ],
 "metadata": {
  "kernelspec": {
   "display_name": "Python 3",
   "language": "python",
   "name": "python3"
  },
  "language_info": {
   "codemirror_mode": {
    "name": "ipython",
    "version": 3
   },
   "file_extension": ".py",
   "mimetype": "text/x-python",
   "name": "python",
   "nbconvert_exporter": "python",
   "pygments_lexer": "ipython3",
   "version": "3.7.4"
  }
 },
 "nbformat": 4,
 "nbformat_minor": 2
}
